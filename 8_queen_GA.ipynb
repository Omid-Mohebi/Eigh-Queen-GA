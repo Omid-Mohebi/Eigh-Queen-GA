{
 "cells": [
  {
   "cell_type": "code",
   "execution_count": 1,
   "id": "c842e522",
   "metadata": {},
   "outputs": [],
   "source": [
    "import random\n",
    "import numpy as np\n",
    "\n",
    "N_QUEENS = 8"
   ]
  },
  {
   "cell_type": "code",
   "execution_count": 2,
   "id": "5fdbc928",
   "metadata": {},
   "outputs": [],
   "source": [
    "def initialize_population_8queens(pop_size, n_queens):\n",
    "    population = []\n",
    "    for _ in range(pop_size):\n",
    "        chromosome = np.random.randint(0, n_queens, n_queens)\n",
    "        population.append(chromosome)\n",
    "    return population"
   ]
  },
  {
   "cell_type": "code",
   "execution_count": 3,
   "id": "2072477a",
   "metadata": {},
   "outputs": [],
   "source": [
    "def calculate_fitness_8queens(chromosome):\n",
    "    n_queens = len(chromosome)\n",
    "    non_attacking_pairs = 0\n",
    "    for i in range(n_queens):\n",
    "        for j in range(i + 1, n_queens):\n",
    "            if chromosome[i] != chromosome[j] and \\\n",
    "               abs(chromosome[i] - chromosome[j]) != abs(i - j):\n",
    "                non_attacking_pairs += 1\n",
    "    return non_attacking_pairs"
   ]
  },
  {
   "cell_type": "code",
   "execution_count": 4,
   "id": "62bf9018",
   "metadata": {},
   "outputs": [],
   "source": [
    "def tournament_selection(population, fitness_values, tournament_size=3):\n",
    "    selected_indices = random.sample(range(len(population)), tournament_size)\n",
    "    tournament_fitness = [fitness_values[i] for i in selected_indices]\n",
    "    winner_idx_in_tournament = np.argmax(tournament_fitness)\n",
    "    winner_original_idx = selected_indices[winner_idx_in_tournament]\n",
    "    return population[winner_original_idx].copy()"
   ]
  },
  {
   "cell_type": "code",
   "execution_count": 5,
   "id": "e770002e",
   "metadata": {},
   "outputs": [],
   "source": [
    "def crossover_8queens(parent1, parent2):\n",
    "    n = len(parent1)\n",
    "    if n <= 1:\n",
    "        return parent1.copy(), parent2.copy()\n",
    "\n",
    "    point1 = random.randint(0, n - 1)\n",
    "    point2 = random.randint(point1, n - 1)\n",
    "    if point1 > point2:\n",
    "        point1, point2 = point2, point1\n",
    "    elif point1 == point2 and n > 1:\n",
    "        if point1 < n -1 :\n",
    "            point2 = random.randint(point1 + 1, n - 1) if point1 < n-1 else point1\n",
    "        elif point1 > 0:\n",
    "            point1 = random.randint(0, point1-1) if point1 > 0 else point1\n",
    "\n",
    "    offspring1 = parent1.copy()\n",
    "    offspring2 = parent2.copy()\n",
    "\n",
    "    offspring1[point1:point2+1] = parent2[point1:point2+1]\n",
    "    offspring2[point1:point2+1] = parent1[point1:point2+1]\n",
    "\n",
    "    return offspring1, offspring2"
   ]
  },
  {
   "cell_type": "code",
   "execution_count": 10,
   "id": "8376f3fa",
   "metadata": {},
   "outputs": [],
   "source": [
    "def mutate_8queens(chromosome, mutation_rate):\n",
    "    if random.random() < mutation_rate:\n",
    "        n_queens = len(chromosome)\n",
    "        if n_queens == 0:\n",
    "            return chromosome\n",
    "\n",
    "        gene_to_mutate = random.randint(0, n_queens - 1)\n",
    "        new_value = random.randint(0, n_queens - 1)\n",
    "        chromosome[gene_to_mutate] = new_value\n",
    "    return chromosome"
   ]
  },
  {
   "cell_type": "code",
   "execution_count": 6,
   "id": "7d0c70d4",
   "metadata": {},
   "outputs": [],
   "source": [
    "def elitism_selection(population, fitness_values, elite_size):\n",
    "    fitness_values_np = np.array(fitness_values)\n",
    "    sorted_indices = np.argsort(fitness_values_np)[::-1]\n",
    "    elite_indices = sorted_indices[:elite_size]\n",
    "    return [population[i].copy() for i in elite_indices]"
   ]
  },
  {
   "cell_type": "code",
   "execution_count": 7,
   "id": "ad15bb46",
   "metadata": {},
   "outputs": [],
   "source": [
    "def print_board_8queens(chromosome):\n",
    "    n_queens = len(chromosome)\n",
    "    if n_queens == 0:\n",
    "        print(\"Empty chromosome.\")\n",
    "        return\n",
    "    for row in range(n_queens):\n",
    "        line = \"\"\n",
    "        for col in range(n_queens):\n",
    "            if chromosome[col] == row:\n",
    "                line += \"Q  \"\n",
    "            else:\n",
    "                line += \".  \"\n",
    "        print(line)\n",
    "    print(f\"Chromosome: {chromosome.tolist()}\")\n",
    "    print(f\"Fitness (non-attacking pairs): {calculate_fitness_8queens(chromosome)}\")"
   ]
  },
  {
   "cell_type": "code",
   "execution_count": 8,
   "id": "ae32c5b9",
   "metadata": {},
   "outputs": [],
   "source": [
    "def ga_8queens_solver(pop_size=100, max_generations=500, n_queens=N_QUEENS,\n",
    "                       crossover_rate=0.8, mutation_rate=0.1, elite_ratio=0.1,\n",
    "                       tournament_size=3):\n",
    "    population = initialize_population_8queens(pop_size, n_queens)\n",
    "    elite_size = max(1, int(pop_size * elite_ratio))\n",
    "\n",
    "    max_possible_fitness = n_queens * (n_queens - 1) // 2\n",
    "    best_solution_overall = None\n",
    "    best_fitness_overall = -1\n",
    "\n",
    "    print(f\"Starting GA for {n_queens}-Queens problem...\")\n",
    "    print(f\"Max possible fitness (non-attacking pairs): {max_possible_fitness}\\n\")\n",
    "\n",
    "    for generation in range(max_generations):\n",
    "        fitness_values = [calculate_fitness_8queens(chrom) for chrom in population]\n",
    "\n",
    "        current_best_fitness_in_gen = max(fitness_values)\n",
    "        current_avg_fitness_in_gen = sum(fitness_values) / len(fitness_values)\n",
    "\n",
    "        if current_best_fitness_in_gen > best_fitness_overall:\n",
    "            best_fitness_overall = current_best_fitness_in_gen\n",
    "            best_solution_overall = population[np.argmax(fitness_values)].copy()\n",
    "\n",
    "        if (generation + 1) % 50 == 0 or generation == 0:\n",
    "            print(f\"Generation {generation + 1}/{max_generations}: \"\n",
    "                  f\"Best Fitness in Gen = {current_best_fitness_in_gen}, \"\n",
    "                  f\"Avg Fitness in Gen = {current_avg_fitness_in_gen:.2f}, \"\n",
    "                  f\"Overall Best Fitness = {best_fitness_overall}\")\n",
    "\n",
    "        if best_fitness_overall == max_possible_fitness:\n",
    "            print(f\"\\nSolution found in generation {generation + 1}!\")\n",
    "            print_board_8queens(best_solution_overall)\n",
    "            return best_solution_overall, best_fitness_overall\n",
    "\n",
    "        elite = elitism_selection(population, fitness_values, elite_size)\n",
    "        new_population = elite[:]\n",
    "\n",
    "        while len(new_population) < pop_size:\n",
    "            parent1 = tournament_selection(population, fitness_values, tournament_size)\n",
    "            parent2 = tournament_selection(population, fitness_values, tournament_size)\n",
    "\n",
    "            if random.random() < crossover_rate:\n",
    "                offspring1, offspring2 = crossover_8queens(parent1, parent2)\n",
    "            else:\n",
    "                offspring1, offspring2 = parent1.copy(), parent2.copy()\n",
    "\n",
    "            offspring1 = mutate_8queens(offspring1, mutation_rate)\n",
    "            offspring2 = mutate_8queens(offspring2, mutation_rate)\n",
    "\n",
    "            new_population.append(offspring1)\n",
    "            if len(new_population) < pop_size:\n",
    "                new_population.append(offspring2)\n",
    "\n",
    "        population = new_population[:pop_size]\n",
    "\n",
    "    print(\"\\nMaximum generations reached.\")\n",
    "    if best_solution_overall is not None:\n",
    "        print(\"Best solution found during the run:\")\n",
    "        print_board_8queens(best_solution_overall)\n",
    "    else:\n",
    "        print(\"No solution found.\")\n",
    "    return best_solution_overall, best_fitness_overall\n"
   ]
  },
  {
   "cell_type": "code",
   "execution_count": 11,
   "id": "5ecf911f",
   "metadata": {},
   "outputs": [
    {
     "name": "stdout",
     "output_type": "stream",
     "text": [
      "Starting GA for 8-Queens problem...\n",
      "Max possible fitness (non-attacking pairs): 28\n",
      "\n",
      "Generation 1/1000: Best Fitness in Gen = 25, Avg Fitness in Gen = 20.01, Overall Best Fitness = 25\n",
      "\n",
      "Solution found in generation 8!\n",
      ".  .  .  .  .  .  Q  .  \n",
      ".  .  .  Q  .  .  .  .  \n",
      ".  Q  .  .  .  .  .  .  \n",
      ".  .  .  .  .  .  .  Q  \n",
      ".  .  .  .  .  Q  .  .  \n",
      "Q  .  .  .  .  .  .  .  \n",
      ".  .  Q  .  .  .  .  .  \n",
      ".  .  .  .  Q  .  .  .  \n",
      "Chromosome: [5, 2, 6, 1, 7, 4, 0, 3]\n",
      "Fitness (non-attacking pairs): 28\n",
      "\n",
      "Successfully found a perfect solution for 8-Queens!\n"
     ]
    }
   ],
   "source": [
    "if __name__ == \"__main__\":\n",
    "    best_chromosome, best_fitness = ga_8queens_solver(\n",
    "        pop_size=300,\n",
    "        max_generations=1000,\n",
    "        n_queens=N_QUEENS,\n",
    "        crossover_rate=0.9,\n",
    "        mutation_rate=0.2,\n",
    "        elite_ratio=0.1,\n",
    "        tournament_size=5\n",
    "    )\n",
    "\n",
    "    if best_chromosome is not None:\n",
    "        max_fit = N_QUEENS * (N_QUEENS - 1) // 2\n",
    "        if best_fitness == max_fit:\n",
    "            print(f\"\\nSuccessfully found a perfect solution for {N_QUEENS}-Queens!\")\n",
    "        else:\n",
    "            print(f\"\\nCould not find a perfect solution. Best found had fitness {best_fitness}/{max_fit}.\")"
   ]
  },
  {
   "cell_type": "code",
   "execution_count": null,
   "id": "66a6ae1c",
   "metadata": {},
   "outputs": [],
   "source": []
  }
 ],
 "metadata": {
  "kernelspec": {
   "display_name": "Python 3",
   "language": "python",
   "name": "python3"
  },
  "language_info": {
   "codemirror_mode": {
    "name": "ipython",
    "version": 3
   },
   "file_extension": ".py",
   "mimetype": "text/x-python",
   "name": "python",
   "nbconvert_exporter": "python",
   "pygments_lexer": "ipython3",
   "version": "3.13.2"
  }
 },
 "nbformat": 4,
 "nbformat_minor": 5
}
